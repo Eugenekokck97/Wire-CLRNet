{
 "cells": [
  {
   "cell_type": "code",
   "execution_count": 4,
   "metadata": {},
   "outputs": [
    {
     "ename": "ImportError",
     "evalue": "libc10.so: cannot open shared object file: No such file or directory",
     "output_type": "error",
     "traceback": [
      "\u001b[0;31m---------------------------------------------------------------------------\u001b[0m",
      "\u001b[0;31mImportError\u001b[0m                               Traceback (most recent call last)",
      "Cell \u001b[0;32mIn[4], line 1\u001b[0m\n\u001b[0;32m----> 1\u001b[0m \u001b[39mfrom\u001b[39;00m \u001b[39mclrnet\u001b[39;00m\u001b[39m.\u001b[39;00m\u001b[39mutils\u001b[39;00m\u001b[39m.\u001b[39;00m\u001b[39mculane_metric\u001b[39;00m \u001b[39mimport\u001b[39;00m culane_metric\n",
      "File \u001b[0;32m~/clrnet/clrnet/__init__.py:1\u001b[0m\n\u001b[0;32m----> 1\u001b[0m \u001b[39mfrom\u001b[39;00m \u001b[39m.\u001b[39;00m\u001b[39mops\u001b[39;00m \u001b[39mimport\u001b[39;00m \u001b[39m*\u001b[39m\n",
      "File \u001b[0;32m~/clrnet/clrnet/ops/__init__.py:1\u001b[0m\n\u001b[0;32m----> 1\u001b[0m \u001b[39mfrom\u001b[39;00m \u001b[39m.\u001b[39;00m\u001b[39mnms\u001b[39;00m \u001b[39mimport\u001b[39;00m nms\n\u001b[1;32m      3\u001b[0m __all__ \u001b[39m=\u001b[39m [\u001b[39m'\u001b[39m\u001b[39mnms\u001b[39m\u001b[39m'\u001b[39m]\n",
      "File \u001b[0;32m~/clrnet/clrnet/ops/nms.py:29\u001b[0m\n\u001b[1;32m      1\u001b[0m \u001b[39m# Copyright (c) 2018, Grégoire Payen de La Garanderie, Durham University\u001b[39;00m\n\u001b[1;32m      2\u001b[0m \u001b[39m# All rights reserved.\u001b[39;00m\n\u001b[1;32m      3\u001b[0m \u001b[39m#\u001b[39;00m\n\u001b[0;32m   (...)\u001b[0m\n\u001b[1;32m     26\u001b[0m \u001b[39m# OR TORT (INCLUDING NEGLIGENCE OR OTHERWISE) ARISING IN ANY WAY OUT OF THE USE\u001b[39;00m\n\u001b[1;32m     27\u001b[0m \u001b[39m# OF THIS SOFTWARE, EVEN IF ADVISED OF THE POSSIBILITY OF SUCH DAMAGE.\u001b[39;00m\n\u001b[0;32m---> 29\u001b[0m \u001b[39mfrom\u001b[39;00m \u001b[39m.\u001b[39;00m \u001b[39mimport\u001b[39;00m nms_impl\n\u001b[1;32m     32\u001b[0m \u001b[39mdef\u001b[39;00m \u001b[39mnms\u001b[39m(boxes, scores, overlap, top_k):\n\u001b[1;32m     33\u001b[0m     \u001b[39mreturn\u001b[39;00m nms_impl\u001b[39m.\u001b[39mnms_forward(boxes, scores, overlap, top_k)\n",
      "\u001b[0;31mImportError\u001b[0m: libc10.so: cannot open shared object file: No such file or directory"
     ]
    }
   ],
   "source": [
    "from clrnet.utils.culane_metric import culane_metric"
   ]
  }
 ],
 "metadata": {
  "kernelspec": {
   "display_name": "lanedet",
   "language": "python",
   "name": "python3"
  },
  "language_info": {
   "codemirror_mode": {
    "name": "ipython",
    "version": 3
   },
   "file_extension": ".py",
   "mimetype": "text/x-python",
   "name": "python",
   "nbconvert_exporter": "python",
   "pygments_lexer": "ipython3",
   "version": "3.8.19"
  },
  "orig_nbformat": 4
 },
 "nbformat": 4,
 "nbformat_minor": 2
}
